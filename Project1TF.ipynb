{
  "nbformat": 4,
  "nbformat_minor": 0,
  "metadata": {
    "colab": {
      "name": "Project1TF.ipynb",
      "provenance": []
    },
    "kernelspec": {
      "name": "python3",
      "display_name": "Python 3"
    }
  },
  "cells": [
    {
      "cell_type": "markdown",
      "metadata": {
        "id": "Tc8lMbU62eWF"
      },
      "source": [
        "<h1> <b>Project 1</b> </h1>\n",
        "<p>Artificial Neural Networks: Hand-Written Digits <br/> </p>\n",
        "<p>Implemented using Tensorflow with MNIST Datasets</p>\n"
      ]
    },
    {
      "cell_type": "code",
      "metadata": {
        "id": "mE5a2rDyMlRW",
        "outputId": "ef077714-f439-4ccc-fd33-5834d0163a34",
        "colab": {
          "base_uri": "https://localhost:8080/",
          "height": 520
        }
      },
      "source": [
        "import tensorflow as tf\n",
        "import matplotlib.pyplot as plt\n",
        "import numpy as np\n",
        "\n",
        "%matplotlib inline\n",
        "\n",
        "#to avoid overfitting\n",
        "class CustomCallbacks(tf.keras.callbacks.Callback):\n",
        "    def on_epoch_end(self, epoch, logs={}):\n",
        "      if(logs.get('accuracy')>0.99):\n",
        "        print(\"\\n 99% acc reached\")\n",
        "        self.model.stop_training = True\n",
        "\n",
        "\n",
        "mnist = tf.keras.datasets.mnist\n",
        "\n",
        "#Load MNIST Handwritten datasets\n",
        "(x_train, y_train),(x_test, y_test) = mnist.load_data()\n",
        "\n",
        "#Normalize\n",
        "x_train = x_train / 255\n",
        "x_test = x_test / 255\n",
        "\n",
        "#input example\n",
        "plt.imshow(x_train[5])\n",
        "\n",
        "'''\n",
        "Model:\n",
        "Input -> Linear -> Relu -> Linear -> Relu -> Linear -> Softmax\n",
        "Input : 28 images (one batch)\n",
        "Layer-1 Unit : 256 Units\n",
        "Layer-2 Unit : 128 Units\n",
        "Layer-3 Unit : 10 Units\n",
        "Loss Function : Cross Entropy\n",
        "Optimization Algorithm : Adam\n",
        "Based on Accuracy\n",
        "'''\n",
        "model = tf.keras.models.Sequential([\n",
        "    tf.keras.layers.Flatten(input_shape=(28,28)),\n",
        "    tf.keras.layers.Dense(units=256, activation=tf.nn.relu),\n",
        "    tf.keras.layers.Dense(units=128, activation=tf.nn.relu),\n",
        "    tf.keras.layers.Dense(units=10, activation=tf.nn.softmax)\n",
        "])\n",
        "\n",
        "model.compile(optimizer='adam',\n",
        "              loss='sparse_categorical_crossentropy',\n",
        "              metrics=['accuracy'])\n",
        "\n",
        "model.fit(\n",
        "    x_train,\n",
        "    y_train,\n",
        "    epochs=10,\n",
        "    callbacks=[CustomCallbacks()]\n",
        ")\n",
        "\n"
      ],
      "execution_count": 2,
      "outputs": [
        {
          "output_type": "stream",
          "text": [
            "Epoch 1/10\n",
            "1875/1875 [==============================] - 4s 2ms/step - loss: 0.2108 - accuracy: 0.9365\n",
            "Epoch 2/10\n",
            "1875/1875 [==============================] - 4s 2ms/step - loss: 0.0893 - accuracy: 0.9726\n",
            "Epoch 3/10\n",
            "1875/1875 [==============================] - 4s 2ms/step - loss: 0.0608 - accuracy: 0.9810\n",
            "Epoch 4/10\n",
            "1875/1875 [==============================] - 4s 2ms/step - loss: 0.0437 - accuracy: 0.9859\n",
            "Epoch 5/10\n",
            "1875/1875 [==============================] - 4s 2ms/step - loss: 0.0358 - accuracy: 0.9881\n",
            "Epoch 6/10\n",
            "1862/1875 [============================>.] - ETA: 0s - loss: 0.0297 - accuracy: 0.9902\n",
            " 99% acc reached\n",
            "1875/1875 [==============================] - 4s 2ms/step - loss: 0.0297 - accuracy: 0.9902\n"
          ],
          "name": "stdout"
        },
        {
          "output_type": "execute_result",
          "data": {
            "text/plain": [
              "<tensorflow.python.keras.callbacks.History at 0x7f805bfbfef0>"
            ]
          },
          "metadata": {
            "tags": []
          },
          "execution_count": 2
        },
        {
          "output_type": "display_data",
          "data": {
            "image/png": "[encoded data removed]",
            "text/plain": [
              "<Figure size 432x288 with 1 Axes>"
            ]
          },
          "metadata": {
            "tags": [],
            "needs_background": "light"
          }
        }
      ]
    },
    {
      "cell_type": "code",
      "metadata": {
        "id": "E-K5H0fhku-G",
        "outputId": "6997ad89-3a28-42c8-fcaf-243cf72328cc",
        "colab": {
          "base_uri": "https://localhost:8080/",
          "height": 51
        }
      },
      "source": [
        "#evaluate the model using test datasets\n",
        "model.evaluate(x_test,  y_test, verbose=2)"
      ],
      "execution_count": 3,
      "outputs": [
        {
          "output_type": "stream",
          "text": [
            "313/313 - 0s - loss: 0.0833 - accuracy: 0.9774\n"
          ],
          "name": "stdout"
        },
        {
          "output_type": "execute_result",
          "data": {
            "text/plain": [
              "[0.08329030126333237, 0.977400004863739]"
            ]
          },
          "metadata": {
            "tags": []
          },
          "execution_count": 3
        }
      ]
    },
    {
      "cell_type": "code",
      "metadata": {
        "id": "9Zprz4WKlEPw",
        "outputId": "fcd2717e-2756-4333-cf1c-1b1905369113",
        "colab": {
          "base_uri": "https://localhost:8080/",
          "height": 34
        }
      },
      "source": [
        "#predict using test datasets (one batch) - 28 images\n",
        "prediction = model.predict(x_test)\n",
        "predictions = prediction.argmax(axis=1)\n",
        "predictions"
      ],
      "execution_count": 4,
      "outputs": [
        {
          "output_type": "execute_result",
          "data": {
            "text/plain": [
              "array([7, 2, 1, ..., 4, 5, 6])"
            ]
          },
          "metadata": {
            "tags": []
          },
          "execution_count": 4
        }
      ]
    }
  ]
}